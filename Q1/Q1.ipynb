{
 "cells": [
  {
   "cell_type": "code",
   "execution_count": 1,
   "metadata": {},
   "outputs": [],
   "source": [
    "import numpy as np"
   ]
  },
  {
   "cell_type": "code",
   "execution_count": 2,
   "metadata": {},
   "outputs": [],
   "source": [
    "data = np.array([[0, 0, 0], [0, 1, 1], [1, 0, 1], [1, 1, 0]])\n",
    "\n",
    "X = data[:, :-1]\n",
    "X = np.insert(X, 0, 1, axis=1)\n",
    "\n",
    "Y_true = data[:, len(data)-2:]"
   ]
  },
  {
   "cell_type": "code",
   "execution_count": 3,
   "metadata": {},
   "outputs": [],
   "source": [
    "W1 = np.random.rand(2, 3)\n",
    "W2 = np.random.rand(1, 3)"
   ]
  },
  {
   "cell_type": "code",
   "execution_count": 4,
   "metadata": {},
   "outputs": [],
   "source": [
    "def sigmoid(x):\n",
    "    return 1 / (1 + np.exp(-x))\n",
    "\n",
    "def diff_sigmoid(x):\n",
    "    temp = sigmoid(x)\n",
    "    return temp * (1 - temp)"
   ]
  },
  {
   "cell_type": "code",
   "execution_count": 5,
   "metadata": {},
   "outputs": [],
   "source": [
    "def feed_forward(x):\n",
    "    \n",
    "    net1 = np.matmul(W1, x)\n",
    "    x1 = sigmoid(net1)\n",
    "    x1 = np.insert(x1, 0, 1, axis=0)\n",
    "    \n",
    "    net2 = np.matmul(W2, x1)\n",
    "    y = sigmoid(net2)\n",
    "    \n",
    "    return net1, x1, net2, y\n",
    "\n",
    "def backprop(x, y_true, net1, x1, net2, y):\n",
    "    \n",
    "    del2 = (y - y_true) * diff_sigmoid(net2)\n",
    "    Delta_W2 = np.matmul(del2, np.transpose(x1))\n",
    "                \n",
    "    del1 = np.matmul(np.transpose(np.delete(W2, 0, axis=1)), del2) * diff_sigmoid(net1)\n",
    "    Delta_W1 = np.matmul(del1, np.transpose(x))\n",
    "    \n",
    "    return Delta_W1, Delta_W2\n",
    "\n",
    "def get_gradients(x, y_true):\n",
    "    \n",
    "    net1, x1, net2, y = feed_forward(x)\n",
    "    \n",
    "    Delta_W1, Delta_W2 = backprop(x, y_true, net1, x1, net2, y)\n",
    "        \n",
    "    return Delta_W1, Delta_W2"
   ]
  },
  {
   "cell_type": "code",
   "execution_count": 6,
   "metadata": {},
   "outputs": [],
   "source": [
    "def display_results():\n",
    "    _, _, _, Y = feed_forward(np.transpose(X))\n",
    "    \n",
    "    print('Predicted Values - ', Y[0])\n",
    "    \n",
    "    error = np.average(np.square(Y_true - np.transpose(Y)), axis=0) [0]\n",
    "    print('Error - ', error, end='\\n\\n')\n",
    "    \n",
    "    return error"
   ]
  },
  {
   "cell_type": "code",
   "execution_count": 7,
   "metadata": {},
   "outputs": [],
   "source": [
    "def train(epochs, learning_rate, threshold):\n",
    "    \n",
    "    global W1, W2\n",
    "    \n",
    "    for epoch in range(epochs):\n",
    "        for i in range(len(data)):\n",
    "\n",
    "            x = np.reshape(X[i], [len(X[i]), 1])\n",
    "            y_true = Y_true[i]\n",
    "            \n",
    "            Delta_W1, Delta_W2 = get_gradients(x, y_true)\n",
    "\n",
    "            W1 = W1 - learning_rate*Delta_W1\n",
    "            W2 = W2 - learning_rate*Delta_W2\n",
    "        \n",
    "        if epoch % (epochs/100) == 0:\n",
    "            print('Epoch Number - ', epoch + 1)\n",
    "            error = display_results()\n",
    "            \n",
    "            if(error < threshold):\n",
    "                print('Error is less than threshold, threshold -> ' + str(threshold) + ' Error -> ' + str(error))\n",
    "                break"
   ]
  },
  {
   "cell_type": "code",
   "execution_count": 8,
   "metadata": {},
   "outputs": [
    {
     "name": "stdout",
     "output_type": "stream",
     "text": [
      "Epoch Number -  1\n",
      "Predicted Values -  [0.78584207 0.80033956 0.79617867 0.80856589]\n",
      "Error -  0.33818349684883814\n",
      "\n",
      "Epoch Number -  1001\n",
      "Predicted Values -  [0.50046962 0.50030086 0.49944199 0.49929265]\n",
      "Error -  0.2500051339572025\n",
      "\n",
      "Epoch Number -  2001\n",
      "Predicted Values -  [0.4747028  0.50479657 0.50116853 0.51890848]\n",
      "Error -  0.247167008186766\n",
      "\n",
      "Epoch Number -  3001\n",
      "Predicted Values -  [0.14318207 0.69608407 0.723758   0.45515468]\n",
      "Error -  0.0990853546183375\n",
      "\n",
      "Epoch Number -  4001\n",
      "Predicted Values -  [0.05675853 0.93403395 0.93336895 0.08642499]\n",
      "Error -  0.004870506593931035\n",
      "\n",
      "Epoch Number -  5001\n",
      "Predicted Values -  [0.03919142 0.95639046 0.95607513 0.05581075]\n",
      "Error -  0.0021204983761190736\n",
      "\n",
      "Epoch Number -  6001\n",
      "Predicted Values -  [0.03155973 0.96549078 0.96527896 0.0437086 ]\n",
      "Error -  0.0013257235535831966\n",
      "\n",
      "Epoch Number -  7001\n",
      "Predicted Values -  [0.027085   0.97067681 0.97051492 0.03691453]\n",
      "Error -  0.0009563747933569098\n",
      "\n",
      "Error is less than threshold, threshold -> 0.001 Error -> 0.0009563747933569098\n"
     ]
    }
   ],
   "source": [
    "train(epochs=100000, learning_rate=0.4, threshold=0.001)"
   ]
  },
  {
   "cell_type": "code",
   "execution_count": null,
   "metadata": {},
   "outputs": [],
   "source": []
  }
 ],
 "metadata": {
  "kernelspec": {
   "display_name": "Python 3",
   "language": "python",
   "name": "python3"
  },
  "language_info": {
   "codemirror_mode": {
    "name": "ipython",
    "version": 3
   },
   "file_extension": ".py",
   "mimetype": "text/x-python",
   "name": "python",
   "nbconvert_exporter": "python",
   "pygments_lexer": "ipython3",
   "version": "3.7.1"
  }
 },
 "nbformat": 4,
 "nbformat_minor": 2
}
